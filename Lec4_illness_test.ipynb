{
 "cells": [
  {
   "cell_type": "markdown",
   "metadata": {},
   "source": [
    "# Conditionnal probability\n",
    "\n",
    "## Rare illness test\n",
    "\n",
    "Alice takes a test for some illness and the test is positive.\n",
    "However, the test is not perfect\n",
    "and might have false positives\n",
    "(the result is positive while the person is not sick)\n",
    "and false negatives\n",
    "(the result is negative while the person is actually sick).\n",
    "The illness is very rare in the population.\n",
    "\n",
    "**Notations:**\n",
    "  - $p_\\mathrm{ill}$: fraction of the population affected by the illness,\n",
    "  - $p_\\mathrm{FP}$: probability of false positive,\n",
    "  - $p_\\mathrm{FN}$: probability of false negative.\n",
    "  - $S$: the **random** event \"Alice is sick\".\n",
    "  - $P$: the **random** event \"the test is positive\".\n",
    "\n",
    "**Numerical application:**\n",
    "\n",
    "$p_\\mathrm{ill}=0.001,\\ p_\\mathrm{FP}=0.01,\\ p_\\mathrm{FN}=0.01$."
   ]
  },
  {
   "cell_type": "markdown",
   "metadata": {},
   "source": [
    "### 1. Theory\n",
    "Is Alice really sick (i.e. what is the probability)?"
   ]
  },
  {
   "cell_type": "markdown",
   "metadata": {},
   "source": [
    "The required probability is $p(S|P)$."
   ]
  },
  {
   "cell_type": "markdown",
   "metadata": {},
   "source": [
    "$\\Rightarrow p(S|P) = \\frac{p(P|S)\\cdot p(S)}{p(P)}$"
   ]
  },
  {
   "cell_type": "markdown",
   "metadata": {},
   "source": [
    "where, $p(P) = p(P\\cap S) + p(p \\cap \\bar{S}) = p(P|S) \\cdot p(S) + p(P|\\bar{S}) \\cdot p(\\bar{S})$\n",
    "$\\Rightarrow p(P) = (1-p_{FN})p_{ill} + p_{FP}(1-p_{ill})$"
   ]
  },
  {
   "cell_type": "markdown",
   "metadata": {},
   "source": [
    "$p(S|P) = \\frac{(1-p_{FN})p_{ill}}{(1-p_{FN})p_{ill} + p_{FP}(1-p_{ill})}$\n",
    "\n",
    "putting numbers one can get,\n",
    "\n",
    "$p(S|P) = 0.0902$"
   ]
  },
  {
   "cell_type": "markdown",
   "metadata": {},
   "source": [
    "### 2. Numerical experiment with python"
   ]
  },
  {
   "cell_type": "markdown",
   "metadata": {},
   "source": [
    "#### Imports"
   ]
  },
  {
   "cell_type": "code",
   "execution_count": 1,
   "metadata": {},
   "outputs": [],
   "source": [
    "import numpy as np\n",
    "import matplotlib.pyplot as plt\n",
    "%matplotlib inline\n",
    "# See https://numpy.org/doc/stable/reference/index.html"
   ]
  },
  {
   "cell_type": "markdown",
   "metadata": {},
   "source": [
    "#### Generate random booleans"
   ]
  },
  {
   "cell_type": "markdown",
   "metadata": {},
   "source": [
    "1. Single boolean"
   ]
  },
  {
   "cell_type": "code",
   "execution_count": 2,
   "metadata": {},
   "outputs": [],
   "source": [
    "def randbool_single(p):\n",
    "    \"\"\"\n",
    "    This function returns True with probability p,\n",
    "    and False with probabilty (1-p).\n",
    "    \"\"\"\n",
    "    x = np.random.random()\n",
    "    if x>p:\n",
    "        return False\n",
    "    else:\n",
    "        return True\n",
    "    # Todo\n",
    "    # See https://numpy.org/doc/stable/reference/random/legacy.html#functions-in-numpy-random"
   ]
  },
  {
   "cell_type": "markdown",
   "metadata": {},
   "source": [
    "Check that the function works as intended..."
   ]
  },
  {
   "cell_type": "code",
   "execution_count": 3,
   "metadata": {},
   "outputs": [
    {
     "name": "stdout",
     "output_type": "stream",
     "text": [
      "0.24853\n"
     ]
    }
   ],
   "source": [
    "n = 100000\n",
    "s = 0\n",
    "for _ in range(n):\n",
    "    s += randbool_single(0.25)\n",
    "print(s/n)"
   ]
  },
  {
   "cell_type": "markdown",
   "metadata": {},
   "source": [
    "2. Vector of boolean"
   ]
  },
  {
   "cell_type": "code",
   "execution_count": 4,
   "metadata": {},
   "outputs": [],
   "source": [
    "def randbool_vector(p):\n",
    "    \"\"\"\n",
    "    p is array of probabilities.\n",
    "    This function returns a vector of booleans with the same size as p.\n",
    "    For each element, the value is True with probability p[k],\n",
    "    and False with probabilty (1-p[k]).\n",
    "    \"\"\"\n",
    "    n1 = p.size\n",
    "    ab = np.random.random(n1)\n",
    "    return (ab<p)\n",
    "    # Todo\n",
    "    # You can use randbool_single iteratively,\n",
    "    # but it is good practice to work directly with vectors\n",
    "    # (operations are better optimized)"
   ]
  },
  {
   "cell_type": "markdown",
   "metadata": {},
   "source": [
    "Check that the function works as intended..."
   ]
  },
  {
   "cell_type": "code",
   "execution_count": 5,
   "metadata": {},
   "outputs": [
    {
     "name": "stdout",
     "output_type": "stream",
     "text": [
      "0.27109\n",
      "0.27109\n"
     ]
    }
   ],
   "source": [
    "# Todo\n",
    "n=100000\n",
    "pp = np.full(n, 0.27)\n",
    "#print(pp)\n",
    "xx = randbool_vector(pp)\n",
    "#print(xx)\n",
    "s1 = np.sum(xx)    \n",
    "print(s1/n)\n",
    "print(np.mean(xx))"
   ]
  },
  {
   "cell_type": "markdown",
   "metadata": {},
   "source": [
    "#### Generate a random population of healthy/sick individuals"
   ]
  },
  {
   "cell_type": "code",
   "execution_count": 6,
   "metadata": {},
   "outputs": [],
   "source": [
    "def generate_rand_population(p_ill, n):\n",
    "    \"\"\"\n",
    "    This function generates a random population of size n,\n",
    "    with a probability of illness p_ill.    \n",
    "    \"\"\"\n",
    "    abc1 = np.full(n,p_ill)\n",
    "    abc = randbool_vector(abc1)\n",
    "    return abc\n",
    "    # Todo\n",
    "    # Use previously defined functions"
   ]
  },
  {
   "cell_type": "markdown",
   "metadata": {},
   "source": [
    "Check that the function works as intended..."
   ]
  },
  {
   "cell_type": "code",
   "execution_count": 7,
   "metadata": {},
   "outputs": [
    {
     "name": "stdout",
     "output_type": "stream",
     "text": [
      "0.0009\n"
     ]
    }
   ],
   "source": [
    "# Todo\n",
    "population = generate_rand_population(0.001, 100000)\n",
    "print(np.sum(population)/100000)"
   ]
  },
  {
   "cell_type": "code",
   "execution_count": 8,
   "metadata": {},
   "outputs": [
    {
     "name": "stdout",
     "output_type": "stream",
     "text": [
      "[False False  True False  True False False False False False]\n",
      "0.2\n",
      "[0.3 0.3 0.2 0.3 0.2 0.3 0.3 0.3 0.3 0.3]\n",
      "[False False  True  True False False False False False  True]\n",
      "0.3\n"
     ]
    }
   ],
   "source": [
    "pop1 = generate_rand_population(0.1, 10)\n",
    "print(pop1)\n",
    "print(np.mean(pop1))\n",
    "pop2 = np.where(pop1, 0.2, 0.3)\n",
    "print(pop2)\n",
    "pop3 = randbool_vector(pop2)\n",
    "print(pop3)\n",
    "print(np.mean(pop3))"
   ]
  },
  {
   "cell_type": "markdown",
   "metadata": {},
   "source": [
    "#### Generate test results"
   ]
  },
  {
   "cell_type": "code",
   "execution_count": 9,
   "metadata": {},
   "outputs": [],
   "source": [
    "def generate_test_results(population, p_FP, p_FN):\n",
    "    \"\"\"\n",
    "    This function generates test results for each individual\n",
    "    in the population (as a boolean vector).\n",
    "    population is a vector of boolean giving whether\n",
    "    an individual is sick or not.\n",
    "    p_FP is the test false positive rate,\n",
    "    and p_FN is the false negative rate.    \n",
    "    \"\"\"\n",
    "    # Todo\n",
    "    abc = np.where(population, 1-p_FN, p_FP)\n",
    "    # np.where(condition, a, b): if condition is true return a else b\n",
    "    abc1 = randbool_vector(abc)\n",
    "    return abc1"
   ]
  },
  {
   "cell_type": "markdown",
   "metadata": {},
   "source": [
    "Check that the function works as intended..."
   ]
  },
  {
   "cell_type": "code",
   "execution_count": 10,
   "metadata": {},
   "outputs": [
    {
     "name": "stdout",
     "output_type": "stream",
     "text": [
      "All sick: 0.010499999999999954\n",
      "All healthy: 0.9882\n",
      "Population: 0.01145\n"
     ]
    }
   ],
   "source": [
    "# Todo\n",
    "test_all_sick = generate_test_results(np.full(10000, True), 0.01, 0.01)\n",
    "print(\"All sick:\", 1-np.mean(test_all_sick))\n",
    "test_all_healthy = generate_test_results(np.full(10000, False), 0.01, 0.01)\n",
    "print(\"All healthy:\", 1-np.mean(test_all_healthy))\n",
    "test = generate_test_results(population, 0.01, 0.01)\n",
    "print(\"Population:\", np.mean(test))"
   ]
  },
  {
   "cell_type": "markdown",
   "metadata": {},
   "source": [
    "#### Compute the conditional probability"
   ]
  },
  {
   "cell_type": "code",
   "execution_count": 11,
   "metadata": {},
   "outputs": [],
   "source": [
    "def compute_conditional(population, test):\n",
    "    \"\"\"\n",
    "    This function computes the conditional probability of\n",
    "    being sick when the test result is positive.\n",
    "    population is a vector of boolean giving whether\n",
    "    an individual is sick or not.\n",
    "    test is a vector of boolean giving the test result\n",
    "    for each individual in the population.   \n",
    "    \"\"\"\n",
    "    # Todo\n",
    "    gp = population[test]\n",
    "    cond = np.sum(gp)/len(gp)\n",
    "    return cond"
   ]
  },
  {
   "cell_type": "markdown",
   "metadata": {},
   "source": [
    "Use all the previously defined functions to give a numerical answer to question 1.\n",
    "Use different values for the population size (for instance with a for loop), and compare the results together, and with the analytical answer."
   ]
  },
  {
   "cell_type": "code",
   "execution_count": 12,
   "metadata": {},
   "outputs": [
    {
     "name": "stdout",
     "output_type": "stream",
     "text": [
      "Empirical 0.05555555555555555\n",
      "Empirical 0.09523809523809523\n",
      "Empirical 0.08845829823083404\n",
      "Empirical 0.08563586459286368\n",
      "Empirical 0.09086529283967676\n",
      "Empirical 0.09005698034228261\n",
      "Analytical 0.09016393442622951\n"
     ]
    }
   ],
   "source": [
    "# Todo\n",
    "p_ill = 0.001\n",
    "p_FP = 0.01\n",
    "p_FN = 0.01\n",
    "for pop_size in [10**k for k in range(3,9)]:\n",
    "    pop = generate_rand_population(0.001, pop_size)\n",
    "    test = generate_test_results(pop, p_FP, p_FN)\n",
    "    p_cond = compute_conditional(pop, test)\n",
    "    print('Empirical', p_cond)\n",
    "# Analytical formula (see first question)\n",
    "p_ill_and_pos = (1-p_FN)*p_ill\n",
    "p_healthy_and_pos = p_FP*(1-p_ill)\n",
    "p_pos = p_ill_and_pos + p_healthy_and_pos\n",
    "print(\"Analytical\", p_ill_and_pos/p_pos)"
   ]
  },
  {
   "cell_type": "markdown",
   "metadata": {},
   "source": [
    "Comment your results."
   ]
  },
  {
   "cell_type": "markdown",
   "metadata": {},
   "source": [
    "As we increase the total population numbers, the numerical (or empirical) value tends to its analytical value."
   ]
  },
  {
   "cell_type": "markdown",
   "metadata": {},
   "source": [
    "### 3. Two tests\n",
    "Alice takes two successive and independant tests, and both are positive.\n",
    "What is the probability for her to be sick (analytical and numerical answer)?"
   ]
  },
  {
   "cell_type": "markdown",
   "metadata": {},
   "source": [
    "Let's take $P_1$: Event that the first test is positive,\n",
    "            $P_2$: Event that the second test is positive,\n",
    "            $Q = P_1 \\cap P_2$: Event that both tests are positive\n",
    "            \n",
    "Now, we want to find $p(S|Q)$, and we know that,\n",
    "\n",
    "\\begin{equation*}\n",
    "    p(S|Q) = \\frac{p(Q|S)\\cdot p(S)}{p(Q)}\n",
    "\\end{equation*}\n",
    "\n",
    "Now, $p(Q|S) = p(P_1 \\cap P_2|S) = p(P_1|S) \\cdot p(P_2|S) = (1-p_{FN})^2 $ since $P_1$ and $P_2$ are independent events. Furthermore, we can express $p(Q)$ as,\n",
    "\n",
    "\\begin{equation*}\n",
    "    \\begin{split}\n",
    "        p(Q) &= p(Q \\cap S) + p(Q \\cap \\bar{S}) \\\\\n",
    "        &= p(Q|S)p(S) + p(Q|\\bar{S})p(\\bar{S}) \\\\\n",
    "        &= p(P_1 \\cap P_2|S)p(S) + p(P_1 \\cap P_2|\\bar{S})p(\\bar{S}) \\\\\n",
    "        &= p(P_1|S)p(P_2|S) p(S) + p(P_1|\\bar{S})p(P_2|\\bar{S})p(\\bar{S}) \\\\\n",
    "        &= (1-p_{FN})^2 p_{ill} + p_{FP}^2 (1-p_{ill})\n",
    "    \\end{split}\n",
    "\\end{equation*}\n",
    "\n",
    "That means,\n",
    "\n",
    "\\begin{equation*}\n",
    "    p(Q|S) = \\frac{(1-p_{FN})^2 p_{ill}}{(1-p_{FN})^2 p_{ill} + p_{FP}^2 (1-p_{ill})}\n",
    "\\end{equation*}\n",
    "\n",
    "After doing algebra, one would get,\n",
    "\n",
    "$$p(Q|S) = 0.9075$$"
   ]
  },
  {
   "cell_type": "code",
   "execution_count": 13,
   "metadata": {},
   "outputs": [
    {
     "name": "stdout",
     "output_type": "stream",
     "text": [
      "Empirical 1.0\n",
      "Empirical 0.8125\n",
      "Empirical 0.8938053097345132\n",
      "Empirical 0.9018691588785047\n",
      "Empirical 0.9096689732560315\n",
      "Empirical 0.907321378797733\n",
      "Analytical 0.9075\n"
     ]
    }
   ],
   "source": [
    "# Todo\n",
    "def two_tests_cond(popu, t1, t2):\n",
    "    \"\"\"\n",
    "    This function computes the conditional probability of\n",
    "    being sick when the test1 result and test2 result are positive.\n",
    "    population is a vector of boolean giving whether\n",
    "    an individual is sick or not.\n",
    "    test is a vector of boolean giving the test result\n",
    "    for each individual in the population.   \n",
    "    \"\"\"\n",
    "    # Todo\n",
    "    gp1 = popu[t1 & t2]\n",
    "    cond1 = np.sum(gp1)/len(gp1)\n",
    "    return cond1\n",
    "\n",
    "p_ill = 0.001\n",
    "p_FP = 0.01\n",
    "p_FN = 0.01\n",
    "for pop_size in [10**k for k in range(3,9)]:\n",
    "    pop = generate_rand_population(0.001, pop_size)\n",
    "    test1 = generate_test_results(pop, p_FP, p_FN)\n",
    "    test2 = generate_test_results(pop, p_FP, p_FN)\n",
    "    p_cond = two_tests_cond(pop, test1, test2)\n",
    "    print('Empirical', p_cond)\n",
    "# Analytical formula (see first question)\n",
    "p_ill_and_pos = ((1-p_FN)**2)*p_ill\n",
    "p_healthy_and_pos = p_FP*p_FP*(1-p_ill)\n",
    "p_pos = p_ill_and_pos + p_healthy_and_pos\n",
    "print(\"Analytical\", p_ill_and_pos/p_pos)"
   ]
  }
 ],
 "metadata": {
  "kernelspec": {
   "display_name": "Python 3",
   "language": "python",
   "name": "python3"
  },
  "language_info": {
   "codemirror_mode": {
    "name": "ipython",
    "version": 3
   },
   "file_extension": ".py",
   "mimetype": "text/x-python",
   "name": "python",
   "nbconvert_exporter": "python",
   "pygments_lexer": "ipython3",
   "version": "3.7.4"
  }
 },
 "nbformat": 4,
 "nbformat_minor": 2
}
