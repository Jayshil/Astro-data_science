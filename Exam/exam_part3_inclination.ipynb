{
 "cells": [
  {
   "cell_type": "markdown",
   "metadata": {},
   "source": [
    "# Orbit inclinations\n",
    "\n",
    "### Required library \n",
    "    - numpy, matplotlib"
   ]
  },
  {
   "cell_type": "markdown",
   "metadata": {},
   "source": [
    "### Introduction\n",
    "Radial velocity observations of binary stars (or of stars with planetary mass companions) provide a measurement of the companion  minimum mass, $\\boxed{M_{\\rm min} = M_{\\rm true} \\cdot \\sin{(i)}}$ where $i$ corresponds to the orbit inclination with respect to the line of sight. Radial Velocity observations are blind to the orbit inclination and without additional observation methods such as astrometry, direct imaging or transit, one has to rely on probabilities to estimate the true mass of the observed companion. <br>\n",
    "**Remark:** The convention to describe the orbit inclination $i$ is the following : $i=0$ corresponds to an orbit parallel to the plane of sky while $i=\\pi/2$ corresponds to an orbit perpendicular to the plane of sky.\n"
   ]
  },
  {
   "cell_type": "markdown",
   "metadata": {},
   "source": [
    "#### Context:\n",
    "**It is not necessary to answer the exercise questions, but it is useful to undersdand the definition of the probability density function of the orbit inclination** <br>\n",
    "Let's assume that the orbital plane inclinations of binary stars or planetary systems, relative to the line of sight is uniform in all orientations (ie. isotropic). Put in other words, this means that the vector, normal to the orbital plane, is equally likely to be oriented toward any part of the __unit sphere__, or toward any portion of the solid angle $d\\omega$ or $P(\\omega)\\, d\\omega = {\\rm cst}$ (constant).\n",
    "The solid angle, **expressed in spherical coordinates** is : $d\\omega = \\sin{(i)} \\,di \\,d\\phi$ with $\\phi = 0..2\\pi$  and $i=0..\\pi$<br>\n",
    "The probability  of the normal vector  of having coordinates $(i, \\phi)$ within $i$ and $i+di$ and  $\\phi$ and $\\phi+d\\phi$ is equal to $P(\\omega)$, ie.\n",
    "$P(i, \\phi)\\,di\\, d\\phi  = P(\\omega)\\,d\\omega$ which leads to $P(i, \\phi) \\propto \\sin{(i)}$ with in the interval $(0,\\pi)$.\n",
    "$\\sin{(i)}$ being symmetric with respect to $\\pi/2$ we can define both the Probability Density Function (PDF) and the Cumulative Distribution Function  (CDF) of the random variable $I$ in the $(0,\\pi/2)$ interval instead of $(0,\\pi)$."
   ]
  },
  {
   "cell_type": "markdown",
   "metadata": {},
   "source": [
    "### Question A.1 - Analytical part\n",
    "Let's consider the probability density function of the random variable $I$, $f_I(i)$ defined as : \n",
    "$f_I(i) = \\left\\{\n",
    "    \\begin{array}{ll}\n",
    "        0 & i<0\\\\\n",
    "        \\sin{(i)}& 0 \\leq i \\leq \\pi/2\\\\\n",
    "        0 &  i> \\pi/2\n",
    "    \\end{array}\n",
    "\\right.$ \n",
    "\n",
    "**(a)** Compute the Cumulative Distribution Function of the random variable $I$,  $F_I(i)=P(I \\leq i)$.<br><br>\n",
    "\n",
    "**(b)** What is the probability that the inclination of the orbit lies between <br>0  and 15 degree<br>\n",
    "        75 and 90 degree ?<br><br>\n",
    "**(c)** Show that the expected value of the random variable $I$ is : $\\mathbb{E}(I) = 1$ rad $\\approx $57.295 deg<br><br>\n",
    "\n",
    "**(d)** Show that the variance of the random variable $I$ is :${\\rm var}(I) = \\pi-3 \\,{\\rm rad^2}$ <br>and express the corresponding standard deviation in degrees<br><br>\n",
    "\n",
    "**(e)** Determine the value $y_\\alpha$ of $I$  corresponding to the percentile $\\alpha$ which is given by  $P(I \\leq {\\rm y_\\alpha})=\\alpha$.\n",
    "\n",
    "**(f)** Show that the median of $I$ is med$(I)=\\frac{\\pi}{3}$ rad = 60 deg<br><br>\n",
    "\n",
    "**(g)** Compute the the 2.5th, 10th, 90th and 97.5th percentiles of the true mass distribution of the companion.\n",
    "<br>"
   ]
  },
  {
   "cell_type": "markdown",
   "metadata": {},
   "source": [
    "### Question A.2 - Numerical part\n",
    "This part can be done independantly from A.1 as it aims, to reproduce numerically the results given in A.1\n",
    "\n",
    "\n",
    "The inverse of $F_I(i)$ gives us the formula for generating the random variable $I$ with PDF $f_I(i)$:\n",
    "$$i=F^{-1}(y) = \\arccos{(1-y)}$$\n",
    "##### To do so, uniformely draw $y$ on its support, ie. (0,1), and compute $i$.\n",
    "\n",
    "**(a)** Generate a sample of 100,000 realisations of $I$ and overplot its histogram with the theoretical distribution.<br><br>\n",
    "\n",
    "**(b)** Compute the mean, median, variance and standard deviation of the sample consisting of realisations of $I$, compare with the theoretical results of Question 1c, 1d and overplot them on the figure.<br><br>\n"
   ]
  },
  {
   "cell_type": "code",
   "execution_count": null,
   "metadata": {},
   "outputs": [],
   "source": [
    "import numpy as np\n",
    "import matplotlib as mpl\n",
    "import matplotlib.pyplot as plt\n",
    "my_dpi = 300\n",
    "Ndraw = 100000\n",
    "\n",
    "#=> TO DO. \n",
    "incDraw_rad = # Uniformely draw y on its support, ie. (0,1), and compute i.\n",
    "incLin_rad = np.linspace(0,np.pi/2,91)\n",
    "\n",
    "plt.figure(1, figsize=(400 / my_dpi, 300 / my_dpi), dpi=my_dpi)  # constrained_layout=False,\n",
    "fig,ax = plt.subplots(nrows=1, sharex=True, figsize=(16, 8),constrained_layout=False)\n",
    "ax.hist(incDraw_rad/np.pi*180, bins=90, density=True)\n",
    "ax.plot(incLin_rad/np.pi*180.,np.sin(incLin_rad)*np.pi/2/91,linewidth=3)\n",
    "#=> TO DO. Enter meanValue  \n",
    "ax.axvline(x=meanValue,color='red')\n",
    "#=>  TO DO. Enter medianValue  \n",
    "ax.axvline(x=medianValue,color='black',linestyle='dashed')\n",
    "ax.set_xlabel('Inclination [deg]')\n",
    "ax.set_ylabel('PDF f(i)=sin(i)')"
   ]
  },
  {
   "cell_type": "markdown",
   "metadata": {},
   "source": [
    "### BONUS Question B.1 - Analytical part\n",
    "The true mass of the companion can be expressed as : $$M_{\\rm true} =  M_{\\rm min} \\, \\frac{1}{\\sin{I}}  =  M_{\\rm min} \\,g(I)$$.<br>\n",
    "\n",
    "You  know that a function of a random variable is itself a random variable. In the following part, you will compute the PDF and CDF of $Y = g(I)=  \\frac{1}{\\sin{I}}$, derive some of their properties which will help you characterise the true mass of a companion given its minimum mass obtained through radial velocity measurements. \n",
    "\n",
    "#### Reminders : Functions of a random variable : $g(I)$, Strictly decreasing functions.\n",
    "Let  $I$ be a continuous random variable with support  $\\mathbb{R}_I$ and probability density function $f_I(i)$. Let  $g:\\mathbb{R}\\rightarrow \\mathbb{R}$ be strictly decreasing and differentiable on the support of  $I$. Then, the support of  $Y=g(I)$ is\n",
    " $\\mathbb{R}_Y = \\{y=g(i) : i \\in \\mathbb{R}_I\\}$ and its probability density function is : \n",
    "\n",
    " $$f_Y(y)= \\left\\{\n",
    "    \\begin{array}{ll}\n",
    "        - f_I\\Big(g^{-1}(y)\\Big) \\frac{d g^{-1}(y)}{d y} & {\\rm if}\\,\\, y \\in \\mathbb{R}_Y\\\\\n",
    "        0 &   {\\rm if}\\,\\, y \\notin \\mathbb{R}_Y\n",
    "    \\end{array}\n",
    "\\right.$$\n",
    "\n",
    "#### Useful mathematical formulae :\n",
    "$1/\\sin(I)=\\csc(I)$. \n",
    "$\\csc$ is the cosecant function and its inverse is  $\\csc^{-1}(y) = \\arcsin{(1/y)}$.\n",
    "$$\\int \\frac{1}{y^2 \\sqrt{y^2-1}}\\, dy =\\frac{\\sqrt{y^2-1}}{y} +\n",
    "{\\rm constant}$$\n",
    "#### It is an open-book exam. You are therefore allowed to use wolfram alpha to check your derivatives/integrals.\n",
    "\n",
    "\n",
    "**(a)** Define the support of $\\mathbb{R}_Y$ and show that the probability density function of the random variable $Y=1/\\sin(I)$ is \n",
    "$$f_{Y}(y) = \\frac{1}{y^2\\sqrt{y^2-1}}$$. <br><br>\n",
    "\n",
    "**(b)** Show that the Cumulative Distribution Function  of the random variable $Y=1/\\sin(I)$ is $$F_Y(y)=P(Y \\leq y) =  \\frac{\\sqrt{y^2-1}}{y}$$. <br><br>\n",
    "\n",
    "**(c)** Show that the expected value  of the random variable $Y=1/\\sin(I)$ is : $$\\mathbb{E}(Y) = \\frac{\\pi}{2}$$.\n",
    "\n",
    "**(d)** Determine the value $y_\\alpha$ of $Y=1/\\sin(I)$  corresponding to the percentile $\\alpha$ which is given by  $P(I \\leq {\\rm y_\\alpha})=\\alpha$.\n",
    "\n",
    "**(e)** Show that the median of Y is :$$ {\\rm med}(Y)= \\frac{2}{\\sqrt{3}}$$<br><br>\n",
    "\n",
    "**(f)** Compute the the 2.5th, 10th, 90th and 97.5th percentiles of the true mass distribution of the companion.\n",
    "\n",
    "\n",
    "**Remark :** The variance and standard deviation of $Y$ are infinite (admitted  here). <br><br>\n",
    "\n"
   ]
  },
  {
   "cell_type": "markdown",
   "metadata": {},
   "source": [
    "###  BONUS Question B.2 - Numerical part\n",
    "This part can be done independantly to B.1 as it aims, to reproduce numerically the results given in B.1\n",
    "\n",
    "**(a)** Generate a sample of 100,000 realisations of $Y=1/\\sin{I}$ and overplot its histogram with the theoretical distribution. <br><br>\n",
    "\n",
    "**(b)** Compute the mean, median of the sample consisting of realisations of $Y$ and compare with the theoretical results of Question B1.<br><br>\n",
    "\n"
   ]
  },
  {
   "cell_type": "markdown",
   "metadata": {},
   "source": [
    "###  BONUS Question C - Application \n",
    "In the question, you will assume that the mass at which a star stops burning hydrogen  is 70 M$_{\\rm Jup}$. It defines the limit between the stellar domain and brown dwarf domain. Let's consider  a brown dwarf candidate with a minimum mass of  $M_{\\rm min}= 60 $ M$_{\\rm Jup}$ detected  using the radial velocity technique. Following the results of **Questions B**, you are now able to characterize  the true mass distribution of the companion. <br><br>\n",
    "\n",
    "**(a)** What are the mean, the median values of the true mass distribution of the companion? \n",
    "\n",
    "**(b)** Compute the the 2.5th, 10th, 90th and 97.5th percentiles of the true mass distribution of the companion.\n",
    "\n",
    "**(c)** What is the probability that the companion is indeed a Brown Dwarf ?\n",
    "\n",
    "**(d)** What is the probability that the companion is in the stellar domain ?"
   ]
  },
  {
   "cell_type": "code",
   "execution_count": null,
   "metadata": {},
   "outputs": [],
   "source": []
  }
 ],
 "metadata": {
  "kernelspec": {
   "display_name": "Python 3",
   "language": "python",
   "name": "python3"
  },
  "language_info": {
   "codemirror_mode": {
    "name": "ipython",
    "version": 3
   },
   "file_extension": ".py",
   "mimetype": "text/x-python",
   "name": "python",
   "nbconvert_exporter": "python",
   "pygments_lexer": "ipython3",
   "version": "3.7.4"
  }
 },
 "nbformat": 4,
 "nbformat_minor": 4
}
